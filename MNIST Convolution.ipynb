{
 "cells": [
  {
   "cell_type": "markdown",
   "metadata": {},
   "source": [
    "# Convolutional MNIST Classifier"
   ]
  },
  {
   "cell_type": "code",
   "execution_count": 162,
   "metadata": {},
   "outputs": [],
   "source": [
    "import tensorflow as tf\n",
    "from tensorflow.examples.tutorials.mnist import input_data\n",
    "from matplotlib import pyplot\n",
    "\n",
    "%matplotlib inline"
   ]
  },
  {
   "cell_type": "code",
   "execution_count": 5,
   "metadata": {},
   "outputs": [
    {
     "name": "stdout",
     "output_type": "stream",
     "text": [
      "Successfully downloaded train-images-idx3-ubyte.gz 9912422 bytes.\n",
      "Extracting MNIST_data/train-images-idx3-ubyte.gz\n",
      "Successfully downloaded train-labels-idx1-ubyte.gz 28881 bytes.\n",
      "Extracting MNIST_data/train-labels-idx1-ubyte.gz\n",
      "Successfully downloaded t10k-images-idx3-ubyte.gz 1648877 bytes.\n",
      "Extracting MNIST_data/t10k-images-idx3-ubyte.gz\n",
      "Successfully downloaded t10k-labels-idx1-ubyte.gz 4542 bytes.\n",
      "Extracting MNIST_data/t10k-labels-idx1-ubyte.gz\n"
     ]
    }
   ],
   "source": [
    "mnist = input_data.read_data_sets('MNIST_data', one_hot = True)"
   ]
  },
  {
   "cell_type": "markdown",
   "metadata": {},
   "source": [
    "# Interactive Sessions\n",
    "Interactive sessions allows one to interleave operations and building up the computational graph."
   ]
  },
  {
   "cell_type": "code",
   "execution_count": 69,
   "metadata": {
    "collapsed": true
   },
   "outputs": [],
   "source": [
    "sess = tf.InteractiveSession()"
   ]
  },
  {
   "cell_type": "markdown",
   "metadata": {},
   "source": [
    "### Create Placeholders\n",
    "784 is the dimension of a single flatten 28 x 28 pixel MNIST image. Target output is 10-dimensional one-hot vector."
   ]
  },
  {
   "cell_type": "code",
   "execution_count": 70,
   "metadata": {
    "collapsed": true
   },
   "outputs": [],
   "source": [
    "x = tf.placeholder(tf.float32, shape=[None, 784])\n",
    "y = tf.placeholder(tf.float32, shape=[None, 10])"
   ]
  },
  {
   "cell_type": "markdown",
   "metadata": {},
   "source": [
    "### Create Variables (and initialize to zero)\n",
    "W is 784 x 10 and\n",
    "b is 10 x 1"
   ]
  },
  {
   "cell_type": "code",
   "execution_count": 98,
   "metadata": {},
   "outputs": [
    {
     "name": "stdout",
     "output_type": "stream",
     "text": [
      "<tf.Variable 'Variable_7:0' shape=(784, 10) dtype=float32_ref>\n",
      "<tf.Variable 'Variable_8:0' shape=(1, 10) dtype=float32_ref>\n"
     ]
    }
   ],
   "source": [
    "W = tf.Variable(tf.random_normal(shape=(784, 10)))\n",
    "b = tf.Variable(tf.zeros([1,10]))\n",
    "print(W)\n",
    "print(b)\n",
    "\n",
    "sess.run(tf.global_variables_initializer())"
   ]
  },
  {
   "cell_type": "code",
   "execution_count": 99,
   "metadata": {},
   "outputs": [
    {
     "name": "stdout",
     "output_type": "stream",
     "text": [
      "Tensor(\"add_2:0\", shape=(?, 10), dtype=float32)\n"
     ]
    }
   ],
   "source": [
    "z = tf.matmul(x, W) + b\n",
    "print(z)"
   ]
  },
  {
   "cell_type": "markdown",
   "metadata": {},
   "source": [
    "### Specify Loss Function"
   ]
  },
  {
   "cell_type": "code",
   "execution_count": 100,
   "metadata": {},
   "outputs": [],
   "source": [
    "cross_entropy = (tf.nn.softmax_cross_entropy_with_logits(labels=y, logits=z) )"
   ]
  },
  {
   "cell_type": "code",
   "execution_count": 101,
   "metadata": {
    "collapsed": true
   },
   "outputs": [],
   "source": [
    "optimizer = tf.train.GradientDescentOptimizer(0.1).minimize(cross_entropy)"
   ]
  },
  {
   "cell_type": "code",
   "execution_count": 108,
   "metadata": {},
   "outputs": [],
   "source": [
    "for _ in range(15000):\n",
    "    x_batch, y_batch = mnist.train.next_batch(100)\n",
    "    optimizer.run(feed_dict={x: x_batch, y: y_batch})\n",
    "    # sess.run(optimizer, feed_dict={x: x_batch, y: y_batch}) also works"
   ]
  },
  {
   "cell_type": "code",
   "execution_count": 109,
   "metadata": {},
   "outputs": [
    {
     "name": "stdout",
     "output_type": "stream",
     "text": [
      "0.9077\n"
     ]
    }
   ],
   "source": [
    "correct_prediction = tf.equal(tf.argmax(z, axis = 1), tf.argmax(y, axis = 1))\n",
    "accuracy = tf.reduce_mean(tf.cast(correct_prediction, tf.float32))\n",
    "print(accuracy.eval(feed_dict={x: mnist.test.images, y: mnist.test.labels}))"
   ]
  },
  {
   "cell_type": "code",
   "execution_count": 116,
   "metadata": {},
   "outputs": [
    {
     "data": {
      "text/plain": [
       "array([ 0.44051263,  0.01693079, -2.36604524,  2.419554  , -0.01391761,\n",
       "        2.20235085, -0.62979233,  1.94679809, -0.67295057, -1.44783616], dtype=float32)"
      ]
     },
     "execution_count": 116,
     "metadata": {},
     "output_type": "execute_result"
    }
   ],
   "source": [
    "sess.run(W[1])"
   ]
  },
  {
   "cell_type": "markdown",
   "metadata": {},
   "source": [
    "# Convolutional Implmentation\n",
    "\n",
    "Note that variables should be initialized randomly (break symmetry) and slightly positive (avoid dead neurons from ReLU).\n",
    "\n",
    "Note on ksize: [1,2,2,1] because we want a window size 2x2 for width x height of image. The first \"1\" is the dimension that represents the number of training examples and the last \"1\" represents the number of channels."
   ]
  },
  {
   "cell_type": "code",
   "execution_count": 147,
   "metadata": {
    "collapsed": true
   },
   "outputs": [],
   "source": [
    "def weight_variable(shape):\n",
    "    initial = tf.truncated_normal(shape, stddev=0.1)\n",
    "    return tf.Variable(initial)\n",
    "\n",
    "def bias_variable(shape):\n",
    "    initial = tf.constant(0.1, shape=shape)\n",
    "    return tf.Variable(initial)\n",
    "\n",
    "def conv2d(x, W):\n",
    "    return tf.nn.conv2d(input=x, filter=W, strides=[1,1,1,1], padding='SAME')\n",
    "\n",
    "def max_pool_2x2(x):\n",
    "    return tf.nn.max_pool(value=x, ksize=[1,2,2,1], strides=[1,2,2,1], padding='SAME')"
   ]
  },
  {
   "cell_type": "markdown",
   "metadata": {},
   "source": [
    "### Convolution Layer 1"
   ]
  },
  {
   "cell_type": "markdown",
   "metadata": {},
   "source": [
    "Reshape input matrix x to shape (m,28,28,1)"
   ]
  },
  {
   "cell_type": "code",
   "execution_count": 150,
   "metadata": {
    "collapsed": true
   },
   "outputs": [],
   "source": [
    "x_image = tf.reshape(x, [-1, 28, 28, 1])"
   ]
  },
  {
   "cell_type": "code",
   "execution_count": 148,
   "metadata": {
    "collapsed": true
   },
   "outputs": [],
   "source": [
    "W_conv1 = weight_variable([5,5,1,32])\n",
    "b_conv1 = bias_variable([1, 32])"
   ]
  },
  {
   "cell_type": "code",
   "execution_count": 151,
   "metadata": {},
   "outputs": [],
   "source": [
    "h_conv1 = tf.nn.relu(conv2d(x_image, W_conv1) + b_conv1)\n",
    "h_pool1 = max_pool_2x2(h_conv1)"
   ]
  },
  {
   "cell_type": "markdown",
   "metadata": {},
   "source": [
    "### Convolution Layer 2"
   ]
  },
  {
   "cell_type": "code",
   "execution_count": 153,
   "metadata": {
    "collapsed": true
   },
   "outputs": [],
   "source": [
    "W_conv2 = weight_variable([5,5,32,64])\n",
    "b_conv2 = bias_variable([1,64])\n",
    "\n",
    "h_conv2 = tf.nn.relu(conv2d(h_pool1, W_conv2) + b_conv2)\n",
    "h_pool2 = max_pool_2x2(h_conv2)"
   ]
  },
  {
   "cell_type": "markdown",
   "metadata": {},
   "source": [
    "### Densely Connected Layers\n",
    "Verify that the image size is now reduced to 7x7 (64 features). Now add a fully-connected layer with 1024 neurons"
   ]
  },
  {
   "cell_type": "code",
   "execution_count": 155,
   "metadata": {
    "collapsed": true
   },
   "outputs": [],
   "source": [
    "W_fc1 = weight_variable([7*7*64, 1024])\n",
    "b_fc1 = bias_variable([1, 1024])\n",
    "\n",
    "h_pool2_flat = tf.reshape(h_pool2, [-1,7*7*64])\n",
    "h_fc1 = tf.nn.relu(tf.matmul(h_pool2_flat, W_fc1) + b_fc1)"
   ]
  },
  {
   "cell_type": "markdown",
   "metadata": {},
   "source": [
    "### Implement Dropout (optional)"
   ]
  },
  {
   "cell_type": "code",
   "execution_count": 156,
   "metadata": {
    "collapsed": true
   },
   "outputs": [],
   "source": [
    "h_fc1_drop = h_fc1"
   ]
  },
  {
   "cell_type": "markdown",
   "metadata": {},
   "source": [
    "### Readout Layer "
   ]
  },
  {
   "cell_type": "code",
   "execution_count": 157,
   "metadata": {
    "collapsed": true
   },
   "outputs": [],
   "source": [
    "W_fc2 = weight_variable([1024, 10])\n",
    "b_fc2 = bias_variable([1,10])\n",
    "\n",
    "y_conv = tf.matmul(h_fc1_drop, W_fc2) + b_fc2"
   ]
  },
  {
   "cell_type": "markdown",
   "metadata": {},
   "source": [
    "# Train and Evaluate"
   ]
  },
  {
   "cell_type": "code",
   "execution_count": 161,
   "metadata": {},
   "outputs": [
    {
     "name": "stdout",
     "output_type": "stream",
     "text": [
      "Iteration 0  cost: 5.367635\n",
      "Iteration 100  cost: 0.068747\n",
      "Iteration 200  cost: 0.123142\n",
      "Iteration 300  cost: 0.259237\n",
      "Iteration 400  cost: 0.166538\n",
      "Iteration 500  cost: 0.078250\n",
      "Iteration 600  cost: 0.051075\n",
      "Iteration 700  cost: 0.079471\n",
      "Iteration 800  cost: 0.006283\n",
      "Iteration 900  cost: 0.032970\n",
      "Iteration 1000  cost: 0.078704\n",
      "Iteration 1100  cost: 0.095621\n",
      "Iteration 1200  cost: 0.037011\n",
      "Iteration 1300  cost: 0.048620\n",
      "Iteration 1400  cost: 0.083749\n",
      "Iteration 1500  cost: 0.022697\n",
      "Iteration 1600  cost: 0.064767\n",
      "Iteration 1700  cost: 0.073156\n",
      "Iteration 1800  cost: 0.015292\n",
      "Iteration 1900  cost: 0.006467\n",
      "Iteration 2000  cost: 0.168783\n",
      "Iteration 2100  cost: 0.000995\n",
      "Iteration 2200  cost: 0.005052\n",
      "Iteration 2300  cost: 0.007801\n",
      "Iteration 2400  cost: 0.007481\n",
      "Iteration 2500  cost: 0.008946\n",
      "Iteration 2600  cost: 0.003225\n",
      "Iteration 2700  cost: 0.117695\n",
      "Iteration 2800  cost: 0.003592\n",
      "Iteration 2900  cost: 0.002568\n",
      "Iteration 3000  cost: 0.104016\n",
      "Iteration 3100  cost: 0.150768\n",
      "Iteration 3200  cost: 0.000218\n",
      "Iteration 3300  cost: 0.001934\n",
      "Iteration 3400  cost: 0.006952\n",
      "Iteration 3500  cost: 0.006197\n",
      "Iteration 3600  cost: 0.005071\n",
      "Iteration 3700  cost: 0.000295\n",
      "Iteration 3800  cost: 0.010679\n",
      "Iteration 3900  cost: 0.011517\n",
      "Iteration 4000  cost: 0.002501\n",
      "Iteration 4100  cost: 0.041439\n",
      "Iteration 4200  cost: 0.015246\n",
      "Iteration 4300  cost: 0.042357\n",
      "Iteration 4400  cost: 0.046232\n",
      "Iteration 4500  cost: 0.000890\n",
      "Iteration 4600  cost: 0.087201\n",
      "Iteration 4700  cost: 0.078594\n",
      "Iteration 4800  cost: 0.001094\n",
      "Iteration 4900  cost: 0.038131\n",
      "Iteration 5000  cost: 0.009176\n",
      "Iteration 5100  cost: 0.003814\n",
      "Iteration 5200  cost: 0.001417\n",
      "Iteration 5300  cost: 0.003698\n",
      "Iteration 5400  cost: 0.003005\n",
      "Iteration 5500  cost: 0.000334\n",
      "Iteration 5600  cost: 0.000631\n",
      "Iteration 5700  cost: 0.000234\n",
      "Iteration 5800  cost: 0.000042\n",
      "Iteration 5900  cost: 0.002378\n",
      "Iteration 6000  cost: 0.000923\n",
      "Iteration 6100  cost: 0.000887\n",
      "Iteration 6200  cost: 0.002045\n",
      "Iteration 6300  cost: 0.000525\n",
      "Iteration 6400  cost: 0.023525\n",
      "Iteration 6500  cost: 0.000204\n",
      "Iteration 6600  cost: 0.007744\n",
      "Iteration 6700  cost: 0.000358\n",
      "Iteration 6800  cost: 0.000041\n",
      "Iteration 6900  cost: 0.001174\n",
      "Iteration 7000  cost: 0.003168\n",
      "Iteration 7100  cost: 0.000688\n",
      "Iteration 7200  cost: 0.017555\n",
      "Iteration 7300  cost: 0.011284\n",
      "Iteration 7400  cost: 0.010558\n",
      "Iteration 7500  cost: 0.002024\n",
      "Iteration 7600  cost: 0.001969\n",
      "Iteration 7700  cost: 0.004600\n",
      "Iteration 7800  cost: 0.011293\n",
      "Iteration 7900  cost: 0.000044\n",
      "Iteration 8000  cost: 0.001093\n",
      "Iteration 8100  cost: 0.004363\n",
      "Iteration 8200  cost: 0.000031\n",
      "Iteration 8300  cost: 0.026289\n",
      "Iteration 8400  cost: 0.000334\n",
      "Iteration 8500  cost: 0.000598\n",
      "Iteration 8600  cost: 0.015046\n",
      "Iteration 8700  cost: 0.000353\n",
      "Iteration 8800  cost: 0.000646\n",
      "Iteration 8900  cost: 0.017462\n",
      "Iteration 9000  cost: 0.000064\n",
      "Iteration 9100  cost: 0.041245\n",
      "Iteration 9200  cost: 0.000057\n",
      "Iteration 9300  cost: 0.000018\n",
      "Iteration 9400  cost: 0.000215\n",
      "Iteration 9500  cost: 0.015167\n",
      "Iteration 9600  cost: 0.000576\n",
      "Iteration 9700  cost: 0.000003\n",
      "Iteration 9800  cost: 0.000132\n",
      "Iteration 9900  cost: 0.000576\n",
      "Final Test Acc: 0.99\n"
     ]
    }
   ],
   "source": [
    "cross_entropy_loss = tf.reduce_mean(tf.nn.softmax_cross_entropy_with_logits(labels = y, logits = y_conv))\n",
    "optimizer = tf.train.AdamOptimizer(0.001).minimize(cross_entropy_loss)\n",
    "\n",
    "correct_prediction = tf.equal(tf.argmax(y, axis=1), tf.argmax(y_conv, axis=1))\n",
    "accuracy = tf.reduce_mean(tf.cast(correct_prediction, tf.float32))\n",
    "\n",
    "# To log of every 100th iteration\n",
    "cost_log = []\n",
    "train_acc_log = []\n",
    "\n",
    "with tf.Session() as sess:\n",
    "    sess.run(tf.global_variables_initializer())\n",
    "    for i in range(10000):\n",
    "        x_batch, y_batch = mnist.train.next_batch(50)\n",
    "        if i % 100 == 0:\n",
    "            train_accuracy = accuracy.eval(feed_dict = {x: x_batch, y: y_batch})\n",
    "            train_acc_log.append(train_accuracy)\n",
    "            \n",
    "        _, cost = sess.run([optimizer, cross_entropy_loss], feed_dict={x: x_batch, y: y_batch})\n",
    "        \n",
    "        if i % 100 == 0:\n",
    "            cost_log.append(cost)\n",
    "            print('Iteration %d  cost: %f' % (i, cost))\n",
    "    \n",
    "    print('Final Test Acc: %g' % accuracy.eval(feed_dict={x: mnist.test.images, y: mnist.test.labels}))"
   ]
  },
  {
   "cell_type": "code",
   "execution_count": 167,
   "metadata": {
    "collapsed": true
   },
   "outputs": [],
   "source": [
    "?pyplot.plot"
   ]
  },
  {
   "cell_type": "code",
   "execution_count": 177,
   "metadata": {},
   "outputs": [
    {
     "data": {
      "image/png": "[encoded data removed]",
      "text/plain": [
       "<matplotlib.figure.Figure at 0x12b46aa90>"
      ]
     },
     "metadata": {},
     "output_type": "display_data"
    }
   ],
   "source": [
    "pyplot.subplot(1, 2, 1)\n",
    "pyplot.plot(cost_log, 'r')\n",
    "ax = pyplot.gca()\n",
    "ax.set_xlabel('iteration')\n",
    "ax.set_ylabel('cross_entropy_loss')\n",
    "\n",
    "pyplot.subplot(1,2,2)\n",
    "pyplot.plot(train_acc_log, 'r')\n",
    "ax = pyplot.gca()\n",
    "ax.set_xlabel('iteration')\n",
    "ax.set_ylabel('training_accuracy')\n",
    "\n",
    "pyplot.subplots_adjust(top=0.92, bottom=0.08, left=0.10, right=0.95, hspace=0.25,\n",
    "                    wspace=0.80)"
   ]
  },
  {
   "cell_type": "code",
   "execution_count": null,
   "metadata": {
    "collapsed": true
   },
   "outputs": [],
   "source": []
  }
 ],
 "metadata": {
  "kernelspec": {
   "display_name": "Python 3",
   "language": "python",
   "name": "python3"
  },
  "language_info": {
   "codemirror_mode": {
    "name": "ipython",
    "version": 3
   },
   "file_extension": ".py",
   "mimetype": "text/x-python",
   "name": "python",
   "nbconvert_exporter": "python",
   "pygments_lexer": "ipython3",
   "version": "3.6.1"
  }
 },
 "nbformat": 4,
 "nbformat_minor": 2
}
